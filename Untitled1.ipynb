{
  "nbformat": 4,
  "nbformat_minor": 0,
  "metadata": {
    "colab": {
      "provenance": [],
      "authorship_tag": "ABX9TyOFHCGIMW1APQ89e0mGqc7/",
      "include_colab_link": true
    },
    "kernelspec": {
      "name": "python3",
      "display_name": "Python 3"
    },
    "language_info": {
      "name": "python"
    }
  },
  "cells": [
    {
      "cell_type": "markdown",
      "metadata": {
        "id": "view-in-github",
        "colab_type": "text"
      },
      "source": [
        "<a href=\"https://colab.research.google.com/github/vishal200517/Vishal200517/blob/main/Untitled1.ipynb\" target=\"_parent\"><img src=\"https://colab.research.google.com/assets/colab-badge.svg\" alt=\"Open In Colab\"/></a>"
      ]
    },
    {
      "cell_type": "code",
      "execution_count": 2,
      "metadata": {
        "colab": {
          "base_uri": "https://localhost:8080/"
        },
        "id": "k4hYXOp1hDX1",
        "outputId": "08ec110b-a073-4c5c-8f39-343ea84fd15a"
      },
      "outputs": [
        {
          "output_type": "stream",
          "name": "stdout",
          "text": [
            "Hello vishal\n"
          ]
        }
      ],
      "source": [
        "print(\"Hello vishal\")"
      ]
    },
    {
      "cell_type": "code",
      "source": [
        "a=4\n",
        "b=8\n",
        "\n",
        "print(a+b)"
      ],
      "metadata": {
        "colab": {
          "base_uri": "https://localhost:8080/"
        },
        "id": "ogVhCxDljDZv",
        "outputId": "ba158c2d-0397-4402-829c-e5c435bbea7d"
      },
      "execution_count": 3,
      "outputs": [
        {
          "output_type": "stream",
          "name": "stdout",
          "text": [
            "12\n"
          ]
        }
      ]
    },
    {
      "cell_type": "code",
      "source": [
        "a=5\n",
        "b=8\n",
        "print(a+b)"
      ],
      "metadata": {
        "colab": {
          "base_uri": "https://localhost:8080/"
        },
        "id": "K04VQFm0j0_D",
        "outputId": "0aff41d6-6abc-4da6-8412-f44b7ddfd7e8"
      },
      "execution_count": null,
      "outputs": [
        {
          "output_type": "stream",
          "name": "stdout",
          "text": [
            "13\n"
          ]
        }
      ]
    },
    {
      "cell_type": "code",
      "source": [
        "a=8\n",
        "b=6\n",
        "print (a*b)"
      ],
      "metadata": {
        "colab": {
          "base_uri": "https://localhost:8080/",
          "height": 141
        },
        "id": "av39_KxykDMb",
        "outputId": "27a220b8-673c-4d07-ad1e-37a3fec381d0"
      },
      "execution_count": null,
      "outputs": [
        {
          "output_type": "error",
          "ename": "SyntaxError",
          "evalue": "invalid character '×' (U+00D7) (<ipython-input-6-33cc233d1cdc>, line 3)",
          "traceback": [
            "\u001b[0;36m  File \u001b[0;32m\"<ipython-input-6-33cc233d1cdc>\"\u001b[0;36m, line \u001b[0;32m3\u001b[0m\n\u001b[0;31m    print (a×b)\u001b[0m\n\u001b[0m            ^\u001b[0m\n\u001b[0;31mSyntaxError\u001b[0m\u001b[0;31m:\u001b[0m invalid character '×' (U+00D7)\n"
          ]
        }
      ]
    },
    {
      "cell_type": "code",
      "source": [
        "list1= [1,\"vaibhav\", 29.30,[2,4,6],\"hello\"]\n",
        "print(list1)\n",
        "list1[1]=list1[1].upper()\n",
        "print (list1)\n",
        "list1.append(\"10\")\n",
        "print (list1)\n",
        "list1.insert(1,1)\n",
        "print (list1)\n",
        "list1.remove([2,4,6])\n",
        "print (list1)\n",
        "list1.insert(5,[2,5,9])\n",
        "print (list1)\n",
        "list2=[7,8,9]\n",
        "list3=list1.copy()\n",
        "list1.remove(1)\n",
        "print (list1)\n",
        "print(list3)\n",
        "list1.insert(1,list2)\n",
        "print (list1)"
      ],
      "metadata": {
        "colab": {
          "base_uri": "https://localhost:8080/"
        },
        "id": "ysydJb_XmzXO",
        "outputId": "b7b703f7-65a5-43f0-ae33-f512e055be50"
      },
      "execution_count": null,
      "outputs": [
        {
          "output_type": "stream",
          "name": "stdout",
          "text": [
            "[1, 'vaibhav', 29.3, [2, 4, 6], 'hello']\n",
            "[1, 'VAIBHAV', 29.3, [2, 4, 6], 'hello']\n",
            "[1, 'VAIBHAV', 29.3, [2, 4, 6], 'hello', '10']\n",
            "[1, 1, 'VAIBHAV', 29.3, [2, 4, 6], 'hello', '10']\n",
            "[1, 1, 'VAIBHAV', 29.3, 'hello', '10']\n",
            "[1, 1, 'VAIBHAV', 29.3, 'hello', [2, 5, 9], '10']\n",
            "[1, 'VAIBHAV', 29.3, 'hello', [2, 5, 9], '10']\n",
            "[1, 1, 'VAIBHAV', 29.3, 'hello', [2, 5, 9], '10']\n",
            "[1, [7, 8, 9], 'VAIBHAV', 29.3, 'hello', [2, 5, 9], '10']\n"
          ]
        }
      ]
    },
    {
      "cell_type": "code",
      "source": [
        "tuple1=(45,\"a\",True,35,54,343,[43],34,34,65,\"python\",43)\n",
        "list1=list(tuple1)\n",
        "print(list1)\n",
        "list1.index(True)"
      ],
      "metadata": {
        "colab": {
          "base_uri": "https://localhost:8080/",
          "height": 315
        },
        "id": "U8zq7_gFtdF_",
        "outputId": "d3376fca-b40b-49b7-c901-ed2d71c20234"
      },
      "execution_count": null,
      "outputs": [
        {
          "output_type": "error",
          "ename": "TypeError",
          "evalue": "'list' object is not callable",
          "traceback": [
            "\u001b[0;31m---------------------------------------------------------------------------\u001b[0m",
            "\u001b[0;31mTypeError\u001b[0m                                 Traceback (most recent call last)",
            "\u001b[0;32m<ipython-input-9-ed6b91808413>\u001b[0m in \u001b[0;36m<cell line: 0>\u001b[0;34m()\u001b[0m\n\u001b[1;32m      1\u001b[0m \u001b[0mtuple1\u001b[0m\u001b[0;34m=\u001b[0m\u001b[0;34m(\u001b[0m\u001b[0;36m45\u001b[0m\u001b[0;34m,\u001b[0m\u001b[0;34m\"a\"\u001b[0m\u001b[0;34m,\u001b[0m\u001b[0;32mTrue\u001b[0m\u001b[0;34m,\u001b[0m\u001b[0;36m35\u001b[0m\u001b[0;34m,\u001b[0m\u001b[0;36m54\u001b[0m\u001b[0;34m,\u001b[0m\u001b[0;36m343\u001b[0m\u001b[0;34m,\u001b[0m\u001b[0;34m[\u001b[0m\u001b[0;36m43\u001b[0m\u001b[0;34m]\u001b[0m\u001b[0;34m,\u001b[0m\u001b[0;36m34\u001b[0m\u001b[0;34m,\u001b[0m\u001b[0;36m34\u001b[0m\u001b[0;34m,\u001b[0m\u001b[0;36m65\u001b[0m\u001b[0;34m,\u001b[0m\u001b[0;34m\"python\"\u001b[0m\u001b[0;34m,\u001b[0m\u001b[0;36m43\u001b[0m\u001b[0;34m)\u001b[0m\u001b[0;34m\u001b[0m\u001b[0;34m\u001b[0m\u001b[0m\n\u001b[0;32m----> 2\u001b[0;31m \u001b[0mlist1\u001b[0m\u001b[0;34m=\u001b[0m\u001b[0mlist\u001b[0m\u001b[0;34m(\u001b[0m\u001b[0mtuple1\u001b[0m\u001b[0;34m)\u001b[0m\u001b[0;34m\u001b[0m\u001b[0;34m\u001b[0m\u001b[0m\n\u001b[0m\u001b[1;32m      3\u001b[0m \u001b[0mprint\u001b[0m\u001b[0;34m(\u001b[0m\u001b[0mlist1\u001b[0m\u001b[0;34m)\u001b[0m\u001b[0;34m\u001b[0m\u001b[0;34m\u001b[0m\u001b[0m\n\u001b[1;32m      4\u001b[0m \u001b[0mlist1\u001b[0m\u001b[0;34m.\u001b[0m\u001b[0mindex\u001b[0m\u001b[0;34m(\u001b[0m\u001b[0;32mTrue\u001b[0m\u001b[0;34m)\u001b[0m\u001b[0;34m\u001b[0m\u001b[0;34m\u001b[0m\u001b[0m\n",
            "\u001b[0;31mTypeError\u001b[0m: 'list' object is not callable"
          ]
        }
      ]
    },
    {
      "cell_type": "code",
      "source": [
        "a=18\n",
        "a+=10\n",
        "print(a)\n",
        "a-=10\n",
        "print(a)\n",
        "a*=10\n",
        "print(a)\n",
        "a/=10\n",
        "print(a)"
      ],
      "metadata": {
        "id": "KSnULw6utjkC",
        "outputId": "66a5f92c-aa67-4ace-d7dc-254b1045af36",
        "colab": {
          "base_uri": "https://localhost:8080/"
        }
      },
      "execution_count": null,
      "outputs": [
        {
          "output_type": "stream",
          "name": "stdout",
          "text": [
            "28\n",
            "18\n",
            "180\n",
            "18.0\n"
          ]
        }
      ]
    },
    {
      "cell_type": "code",
      "source": [
        "name=\"Vaibhav\"\n",
        "age=26\n",
        "salary=100000\n",
        "print(\"my Name is {}, I am {} years old and my salary is {}Rupees\".format(name,age,salary))"
      ],
      "metadata": {
        "colab": {
          "base_uri": "https://localhost:8080/"
        },
        "id": "OdCegVptxYFL",
        "outputId": "4f3a34cf-3cb9-442f-effa-88eb2abddb38"
      },
      "execution_count": null,
      "outputs": [
        {
          "output_type": "stream",
          "name": "stdout",
          "text": [
            "my Name is Vaibhav, I am 26 years old and my salary is 100000Rupees\n"
          ]
        }
      ]
    },
    {
      "cell_type": "code",
      "source": [
        "name=str(input(\"Please enter your Name:\"))\n",
        "age=int(input(\"Please enter your age:\"))\n",
        "salary=int(input(\"Please enter your salary:\"))\n",
        "print(\"Your name is {}, You are {} years old and your salary is Rs{}\" .format(name,age,salary))"
      ],
      "metadata": {
        "colab": {
          "base_uri": "https://localhost:8080/"
        },
        "id": "sFKeSBQYx2DT",
        "outputId": "2d2aee78-662e-4a31-ea23-a47d822f5c33"
      },
      "execution_count": null,
      "outputs": [
        {
          "output_type": "stream",
          "name": "stdout",
          "text": [
            "Please enter your Name:vishal \n",
            "Please enter your age:21\n",
            "Please enter your salary:20000\n",
            "Your name is vishal , You are 21 years old and your salary is Rs20000\n"
          ]
        }
      ]
    },
    {
      "cell_type": "code",
      "source": [
        "list=[1,2,3,4,5]\n",
        "print(list)\n",
        "list.pop(2)\n",
        "print(list)"
      ],
      "metadata": {
        "colab": {
          "base_uri": "https://localhost:8080/"
        },
        "id": "LP2Z_qPBnSZR",
        "outputId": "677cb812-184a-46c2-cfd1-4f9715214e1c"
      },
      "execution_count": 1,
      "outputs": [
        {
          "output_type": "stream",
          "name": "stdout",
          "text": [
            "[1, 2, 3, 4, 5]\n",
            "[1, 2, 4, 5]\n"
          ]
        }
      ]
    }
  ]
}